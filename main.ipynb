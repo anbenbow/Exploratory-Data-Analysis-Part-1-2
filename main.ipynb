{
 "cells": [
  {
   "cell_type": "code",
   "execution_count": null,
   "metadata": {},
   "outputs": [],
   "source": [
    "import pandas as pd\n",
    "import matplotlib.pyplot as plt\n",
    "import mysql.connector as connection\n"
   ]
  },
  {
   "cell_type": "code",
   "execution_count": null,
   "metadata": {},
   "outputs": [],
   "source": [
    "my_db = connection.connect(host='daflexsalesdb.c5p7yvjq1h8y.us-east-2.rds.amazonaws.com', database='salesdb', user='root', password='D3v$tudent', use_pure='True')\n"
   ]
  },
  {
   "cell_type": "code",
   "execution_count": null,
   "metadata": {},
   "outputs": [],
   "source": [
    "my_query = 'SELECT * FROM salesdb'\n",
    "\n",
    "df = pd.read_sql(my_query, my_db)\n",
    "df"
   ]
  },
  {
   "cell_type": "code",
   "execution_count": null,
   "metadata": {},
   "outputs": [],
   "source": [
    "joined_query = \"\"\"SELECT salesdb.sales,\n",
    "salesdb.cities\n",
    "FROM salesdb\n",
    "JOIN\n",
    "ON\n",
    "\"\"\"\n",
    "\n",
    "joined_df= pd.read_sql(joined_query, my_db)\n",
    "joined_df"
   ]
  },
  {
   "cell_type": "markdown",
   "metadata": {},
   "source": [
    "(10 points): As a Data Analyst, I want to perform the necessary data cleaning and wrangling steps for my DataFrame.  This will include:\n",
    "Exploring the information of the joined DataFrame\n",
    "Checking for and removing null values, if necessary\n",
    "Checking for and removing duplicate rows, if necessary\n",
    "Converting any necessary columns to Pandas DateTime format\n"
   ]
  },
  {
   "cell_type": "code",
   "execution_count": null,
   "metadata": {},
   "outputs": [],
   "source": []
  },
  {
   "cell_type": "markdown",
   "metadata": {},
   "source": [
    "(15 points): As a Data Analyst, I want to explore my DataFrame to examine the spread of values across categories.  I will utilize this exploration to answer the following questions:\n",
    "How many sales were made for members vs. normal customers?\n",
    "How many sales were made at each store location?\n",
    "How many sales were made for each product line?\n",
    "What is the overall average rating, based on all sales records?\n"
   ]
  },
  {
   "cell_type": "code",
   "execution_count": null,
   "metadata": {},
   "outputs": [],
   "source": []
  },
  {
   "cell_type": "markdown",
   "metadata": {},
   "source": [
    "(15 points): As a Data Analyst, I want to create three visualizations of my DataFrame to better understand any trends or patterns within my data set.  These charts will be a type of my choosing, and I can select which variables to analyze.  All three charts should contain the following:\n",
    "A chart title\n",
    "X-axis labels, if applicable\n",
    "Y-axis labels, if applicable\n"
   ]
  },
  {
   "cell_type": "code",
   "execution_count": null,
   "metadata": {},
   "outputs": [],
   "source": []
  }
 ],
 "metadata": {
  "kernelspec": {
   "display_name": "Python 3.10.5 64-bit",
   "language": "python",
   "name": "python3"
  },
  "language_info": {
   "name": "python",
   "version": "3.10.5"
  },
  "orig_nbformat": 4,
  "vscode": {
   "interpreter": {
    "hash": "39112a4359bd7a7c2adfdd35cbf6f96444fb40678221ac892a9ad197ff5f42ef"
   }
  }
 },
 "nbformat": 4,
 "nbformat_minor": 2
}
